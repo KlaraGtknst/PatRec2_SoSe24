{
  "nbformat": 4,
  "nbformat_minor": 0,
  "metadata": {
    "kernelspec": {
      "display_name": "Python 3",
      "language": "python",
      "name": "python3"
    },
    "language_info": {
      "codemirror_mode": {
        "name": "ipython",
        "version": 3
      },
      "file_extension": ".py",
      "mimetype": "text/x-python",
      "name": "python",
      "nbconvert_exporter": "python",
      "pygments_lexer": "ipython3",
      "version": "3.8.5"
    },
    "colab": {
      "provenance": []
    },
    "widgets": {
      "application/vnd.jupyter.widget-state+json": {
        "d30f47600a0843e1bdb2653a3db0a4f3": {
          "model_module": "@jupyter-widgets/controls",
          "model_name": "VBoxModel",
          "model_module_version": "1.5.0",
          "state": {
            "_dom_classes": [
              "widget-interact"
            ],
            "_model_module": "@jupyter-widgets/controls",
            "_model_module_version": "1.5.0",
            "_model_name": "VBoxModel",
            "_view_count": null,
            "_view_module": "@jupyter-widgets/controls",
            "_view_module_version": "1.5.0",
            "_view_name": "VBoxView",
            "box_style": "",
            "children": [
              "IPY_MODEL_80c732db39104239b0ce159241482997",
              "IPY_MODEL_513989b4ad804634a33fed8bf476266b"
            ],
            "layout": "IPY_MODEL_80ff4b78a2b44866bf8c747df95b5ff0"
          }
        },
        "80c732db39104239b0ce159241482997": {
          "model_module": "@jupyter-widgets/controls",
          "model_name": "FloatSliderModel",
          "model_module_version": "1.5.0",
          "state": {
            "_dom_classes": [],
            "_model_module": "@jupyter-widgets/controls",
            "_model_module_version": "1.5.0",
            "_model_name": "FloatSliderModel",
            "_view_count": null,
            "_view_module": "@jupyter-widgets/controls",
            "_view_module_version": "1.5.0",
            "_view_name": "FloatSliderView",
            "continuous_update": true,
            "description": "theta",
            "description_tooltip": null,
            "disabled": false,
            "layout": "IPY_MODEL_c1548466ca0e4b6ab58effcb41183259",
            "max": 3,
            "min": -3,
            "orientation": "horizontal",
            "readout": true,
            "readout_format": ".2f",
            "step": 0.1,
            "style": "IPY_MODEL_ba2a61a1cafc4b699fc9856818a98237",
            "value": 1
          }
        },
        "513989b4ad804634a33fed8bf476266b": {
          "model_module": "@jupyter-widgets/output",
          "model_name": "OutputModel",
          "model_module_version": "1.0.0",
          "state": {
            "_dom_classes": [],
            "_model_module": "@jupyter-widgets/output",
            "_model_module_version": "1.0.0",
            "_model_name": "OutputModel",
            "_view_count": null,
            "_view_module": "@jupyter-widgets/output",
            "_view_module_version": "1.0.0",
            "_view_name": "OutputView",
            "layout": "IPY_MODEL_5828da11c8564518948b28d815f6b5e5",
            "msg_id": "",
            "outputs": [
              {
                "output_type": "display_data",
                "data": {
                  "text/plain": "<Figure size 432x288 with 1 Axes>",
                  "image/png": "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\n"
                },
                "metadata": {
                  "needs_background": "light"
                }
              }
            ]
          }
        },
        "80ff4b78a2b44866bf8c747df95b5ff0": {
          "model_module": "@jupyter-widgets/base",
          "model_name": "LayoutModel",
          "model_module_version": "1.2.0",
          "state": {
            "_model_module": "@jupyter-widgets/base",
            "_model_module_version": "1.2.0",
            "_model_name": "LayoutModel",
            "_view_count": null,
            "_view_module": "@jupyter-widgets/base",
            "_view_module_version": "1.2.0",
            "_view_name": "LayoutView",
            "align_content": null,
            "align_items": null,
            "align_self": null,
            "border": null,
            "bottom": null,
            "display": null,
            "flex": null,
            "flex_flow": null,
            "grid_area": null,
            "grid_auto_columns": null,
            "grid_auto_flow": null,
            "grid_auto_rows": null,
            "grid_column": null,
            "grid_gap": null,
            "grid_row": null,
            "grid_template_areas": null,
            "grid_template_columns": null,
            "grid_template_rows": null,
            "height": null,
            "justify_content": null,
            "justify_items": null,
            "left": null,
            "margin": null,
            "max_height": null,
            "max_width": null,
            "min_height": null,
            "min_width": null,
            "object_fit": null,
            "object_position": null,
            "order": null,
            "overflow": null,
            "overflow_x": null,
            "overflow_y": null,
            "padding": null,
            "right": null,
            "top": null,
            "visibility": null,
            "width": null
          }
        },
        "c1548466ca0e4b6ab58effcb41183259": {
          "model_module": "@jupyter-widgets/base",
          "model_name": "LayoutModel",
          "model_module_version": "1.2.0",
          "state": {
            "_model_module": "@jupyter-widgets/base",
            "_model_module_version": "1.2.0",
            "_model_name": "LayoutModel",
            "_view_count": null,
            "_view_module": "@jupyter-widgets/base",
            "_view_module_version": "1.2.0",
            "_view_name": "LayoutView",
            "align_content": null,
            "align_items": null,
            "align_self": null,
            "border": null,
            "bottom": null,
            "display": null,
            "flex": null,
            "flex_flow": null,
            "grid_area": null,
            "grid_auto_columns": null,
            "grid_auto_flow": null,
            "grid_auto_rows": null,
            "grid_column": null,
            "grid_gap": null,
            "grid_row": null,
            "grid_template_areas": null,
            "grid_template_columns": null,
            "grid_template_rows": null,
            "height": null,
            "justify_content": null,
            "justify_items": null,
            "left": null,
            "margin": null,
            "max_height": null,
            "max_width": null,
            "min_height": null,
            "min_width": null,
            "object_fit": null,
            "object_position": null,
            "order": null,
            "overflow": null,
            "overflow_x": null,
            "overflow_y": null,
            "padding": null,
            "right": null,
            "top": null,
            "visibility": null,
            "width": null
          }
        },
        "ba2a61a1cafc4b699fc9856818a98237": {
          "model_module": "@jupyter-widgets/controls",
          "model_name": "SliderStyleModel",
          "model_module_version": "1.5.0",
          "state": {
            "_model_module": "@jupyter-widgets/controls",
            "_model_module_version": "1.5.0",
            "_model_name": "SliderStyleModel",
            "_view_count": null,
            "_view_module": "@jupyter-widgets/base",
            "_view_module_version": "1.2.0",
            "_view_name": "StyleView",
            "description_width": "",
            "handle_color": null
          }
        },
        "5828da11c8564518948b28d815f6b5e5": {
          "model_module": "@jupyter-widgets/base",
          "model_name": "LayoutModel",
          "model_module_version": "1.2.0",
          "state": {
            "_model_module": "@jupyter-widgets/base",
            "_model_module_version": "1.2.0",
            "_model_name": "LayoutModel",
            "_view_count": null,
            "_view_module": "@jupyter-widgets/base",
            "_view_module_version": "1.2.0",
            "_view_name": "LayoutView",
            "align_content": null,
            "align_items": null,
            "align_self": null,
            "border": null,
            "bottom": null,
            "display": null,
            "flex": null,
            "flex_flow": null,
            "grid_area": null,
            "grid_auto_columns": null,
            "grid_auto_flow": null,
            "grid_auto_rows": null,
            "grid_column": null,
            "grid_gap": null,
            "grid_row": null,
            "grid_template_areas": null,
            "grid_template_columns": null,
            "grid_template_rows": null,
            "height": null,
            "justify_content": null,
            "justify_items": null,
            "left": null,
            "margin": null,
            "max_height": null,
            "max_width": null,
            "min_height": null,
            "min_width": null,
            "object_fit": null,
            "object_position": null,
            "order": null,
            "overflow": null,
            "overflow_x": null,
            "overflow_y": null,
            "padding": null,
            "right": null,
            "top": null,
            "visibility": null,
            "width": null
          }
        },
        "66496d4565294b7b9d9b4c093a92303c": {
          "model_module": "@jupyter-widgets/controls",
          "model_name": "VBoxModel",
          "model_module_version": "1.5.0",
          "state": {
            "_dom_classes": [
              "widget-interact"
            ],
            "_model_module": "@jupyter-widgets/controls",
            "_model_module_version": "1.5.0",
            "_model_name": "VBoxModel",
            "_view_count": null,
            "_view_module": "@jupyter-widgets/controls",
            "_view_module_version": "1.5.0",
            "_view_name": "VBoxView",
            "box_style": "",
            "children": [
              "IPY_MODEL_1eb374fc62964a66beb542e42f6c1101",
              "IPY_MODEL_61627f22a31b498bad8f3fabfe557e42",
              "IPY_MODEL_58d9ca32fafc42f48b9b02eb8f410075",
              "IPY_MODEL_c1ea7d8944c84a868d29787c3e9084b8",
              "IPY_MODEL_4f9a31c46b564517be405305b839c948",
              "IPY_MODEL_9f4c5aa726a94db8b212c881d23c1f25"
            ],
            "layout": "IPY_MODEL_3771029ad3074a8ea62f480a2f2f0710"
          }
        },
        "1eb374fc62964a66beb542e42f6c1101": {
          "model_module": "@jupyter-widgets/controls",
          "model_name": "FloatSliderModel",
          "model_module_version": "1.5.0",
          "state": {
            "_dom_classes": [],
            "_model_module": "@jupyter-widgets/controls",
            "_model_module_version": "1.5.0",
            "_model_name": "FloatSliderModel",
            "_view_count": null,
            "_view_module": "@jupyter-widgets/controls",
            "_view_module_version": "1.5.0",
            "_view_name": "FloatSliderView",
            "continuous_update": true,
            "description": "noise",
            "description_tooltip": null,
            "disabled": false,
            "layout": "IPY_MODEL_3f436b4d7fe14761b227c51991fb49ce",
            "max": 1,
            "min": 0.01,
            "orientation": "horizontal",
            "readout": true,
            "readout_format": ".2f",
            "step": 0.001,
            "style": "IPY_MODEL_098449a3bcc64f62be9fc6570e8a7f88",
            "value": 0.2
          }
        },
        "61627f22a31b498bad8f3fabfe557e42": {
          "model_module": "@jupyter-widgets/controls",
          "model_name": "FloatSliderModel",
          "model_module_version": "1.5.0",
          "state": {
            "_dom_classes": [],
            "_model_module": "@jupyter-widgets/controls",
            "_model_module_version": "1.5.0",
            "_model_name": "FloatSliderModel",
            "_view_count": null,
            "_view_module": "@jupyter-widgets/controls",
            "_view_module_version": "1.5.0",
            "_view_name": "FloatSliderView",
            "continuous_update": true,
            "description": "theta0",
            "description_tooltip": null,
            "disabled": false,
            "layout": "IPY_MODEL_80eba15b3f9c4cd3bf91ef037b5d1084",
            "max": 5,
            "min": 0,
            "orientation": "horizontal",
            "readout": true,
            "readout_format": ".2f",
            "step": 0.1,
            "style": "IPY_MODEL_63772dbd5f3847c293f33f8ae17b4b2f",
            "value": 1
          }
        },
        "58d9ca32fafc42f48b9b02eb8f410075": {
          "model_module": "@jupyter-widgets/controls",
          "model_name": "FloatSliderModel",
          "model_module_version": "1.5.0",
          "state": {
            "_dom_classes": [],
            "_model_module": "@jupyter-widgets/controls",
            "_model_module_version": "1.5.0",
            "_model_name": "FloatSliderModel",
            "_view_count": null,
            "_view_module": "@jupyter-widgets/controls",
            "_view_module_version": "1.5.0",
            "_view_name": "FloatSliderView",
            "continuous_update": true,
            "description": "theta1",
            "description_tooltip": null,
            "disabled": false,
            "layout": "IPY_MODEL_0505d956a1344f75a3277db36f355899",
            "max": 5,
            "min": 0,
            "orientation": "horizontal",
            "readout": true,
            "readout_format": ".2f",
            "step": 0.1,
            "style": "IPY_MODEL_92488a3fc160447d8b8bc84d4e4b3447",
            "value": 1
          }
        },
        "c1ea7d8944c84a868d29787c3e9084b8": {
          "model_module": "@jupyter-widgets/controls",
          "model_name": "FloatSliderModel",
          "model_module_version": "1.5.0",
          "state": {
            "_dom_classes": [],
            "_model_module": "@jupyter-widgets/controls",
            "_model_module_version": "1.5.0",
            "_model_name": "FloatSliderModel",
            "_view_count": null,
            "_view_module": "@jupyter-widgets/controls",
            "_view_module_version": "1.5.0",
            "_view_name": "FloatSliderView",
            "continuous_update": true,
            "description": "theta2",
            "description_tooltip": null,
            "disabled": false,
            "layout": "IPY_MODEL_3d4c398a499740ccbb69d9b99c34225d",
            "max": 5,
            "min": 0,
            "orientation": "horizontal",
            "readout": true,
            "readout_format": ".2f",
            "step": 0.1,
            "style": "IPY_MODEL_1ce7266d41504ff98e73edc8a16abc3f",
            "value": 0
          }
        },
        "4f9a31c46b564517be405305b839c948": {
          "model_module": "@jupyter-widgets/controls",
          "model_name": "FloatSliderModel",
          "model_module_version": "1.5.0",
          "state": {
            "_dom_classes": [],
            "_model_module": "@jupyter-widgets/controls",
            "_model_module_version": "1.5.0",
            "_model_name": "FloatSliderModel",
            "_view_count": null,
            "_view_module": "@jupyter-widgets/controls",
            "_view_module_version": "1.5.0",
            "_view_name": "FloatSliderView",
            "continuous_update": true,
            "description": "theta3",
            "description_tooltip": null,
            "disabled": false,
            "layout": "IPY_MODEL_ea7774bb272e48e497993689dc7ab952",
            "max": 5,
            "min": 0,
            "orientation": "horizontal",
            "readout": true,
            "readout_format": ".2f",
            "step": 0.1,
            "style": "IPY_MODEL_95084b6ee0e84ed9a682fa8f75025692",
            "value": 0
          }
        },
        "9f4c5aa726a94db8b212c881d23c1f25": {
          "model_module": "@jupyter-widgets/output",
          "model_name": "OutputModel",
          "model_module_version": "1.0.0",
          "state": {
            "_dom_classes": [],
            "_model_module": "@jupyter-widgets/output",
            "_model_module_version": "1.0.0",
            "_model_name": "OutputModel",
            "_view_count": null,
            "_view_module": "@jupyter-widgets/output",
            "_view_module_version": "1.0.0",
            "_view_name": "OutputView",
            "layout": "IPY_MODEL_2ae83fe37ec0469295b3dfb430bee5b1",
            "msg_id": "",
            "outputs": [
              {
                "output_type": "display_data",
                "data": {
                  "text/plain": "<Figure size 936x360 with 1 Axes>",
                  "image/png": "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\n"
                },
                "metadata": {
                  "needs_background": "light"
                }
              }
            ]
          }
        },
        "3771029ad3074a8ea62f480a2f2f0710": {
          "model_module": "@jupyter-widgets/base",
          "model_name": "LayoutModel",
          "model_module_version": "1.2.0",
          "state": {
            "_model_module": "@jupyter-widgets/base",
            "_model_module_version": "1.2.0",
            "_model_name": "LayoutModel",
            "_view_count": null,
            "_view_module": "@jupyter-widgets/base",
            "_view_module_version": "1.2.0",
            "_view_name": "LayoutView",
            "align_content": null,
            "align_items": null,
            "align_self": null,
            "border": null,
            "bottom": null,
            "display": null,
            "flex": null,
            "flex_flow": null,
            "grid_area": null,
            "grid_auto_columns": null,
            "grid_auto_flow": null,
            "grid_auto_rows": null,
            "grid_column": null,
            "grid_gap": null,
            "grid_row": null,
            "grid_template_areas": null,
            "grid_template_columns": null,
            "grid_template_rows": null,
            "height": null,
            "justify_content": null,
            "justify_items": null,
            "left": null,
            "margin": null,
            "max_height": null,
            "max_width": null,
            "min_height": null,
            "min_width": null,
            "object_fit": null,
            "object_position": null,
            "order": null,
            "overflow": null,
            "overflow_x": null,
            "overflow_y": null,
            "padding": null,
            "right": null,
            "top": null,
            "visibility": null,
            "width": null
          }
        },
        "3f436b4d7fe14761b227c51991fb49ce": {
          "model_module": "@jupyter-widgets/base",
          "model_name": "LayoutModel",
          "model_module_version": "1.2.0",
          "state": {
            "_model_module": "@jupyter-widgets/base",
            "_model_module_version": "1.2.0",
            "_model_name": "LayoutModel",
            "_view_count": null,
            "_view_module": "@jupyter-widgets/base",
            "_view_module_version": "1.2.0",
            "_view_name": "LayoutView",
            "align_content": null,
            "align_items": null,
            "align_self": null,
            "border": null,
            "bottom": null,
            "display": null,
            "flex": null,
            "flex_flow": null,
            "grid_area": null,
            "grid_auto_columns": null,
            "grid_auto_flow": null,
            "grid_auto_rows": null,
            "grid_column": null,
            "grid_gap": null,
            "grid_row": null,
            "grid_template_areas": null,
            "grid_template_columns": null,
            "grid_template_rows": null,
            "height": null,
            "justify_content": null,
            "justify_items": null,
            "left": null,
            "margin": null,
            "max_height": null,
            "max_width": null,
            "min_height": null,
            "min_width": null,
            "object_fit": null,
            "object_position": null,
            "order": null,
            "overflow": null,
            "overflow_x": null,
            "overflow_y": null,
            "padding": null,
            "right": null,
            "top": null,
            "visibility": null,
            "width": null
          }
        },
        "098449a3bcc64f62be9fc6570e8a7f88": {
          "model_module": "@jupyter-widgets/controls",
          "model_name": "SliderStyleModel",
          "model_module_version": "1.5.0",
          "state": {
            "_model_module": "@jupyter-widgets/controls",
            "_model_module_version": "1.5.0",
            "_model_name": "SliderStyleModel",
            "_view_count": null,
            "_view_module": "@jupyter-widgets/base",
            "_view_module_version": "1.2.0",
            "_view_name": "StyleView",
            "description_width": "",
            "handle_color": null
          }
        },
        "80eba15b3f9c4cd3bf91ef037b5d1084": {
          "model_module": "@jupyter-widgets/base",
          "model_name": "LayoutModel",
          "model_module_version": "1.2.0",
          "state": {
            "_model_module": "@jupyter-widgets/base",
            "_model_module_version": "1.2.0",
            "_model_name": "LayoutModel",
            "_view_count": null,
            "_view_module": "@jupyter-widgets/base",
            "_view_module_version": "1.2.0",
            "_view_name": "LayoutView",
            "align_content": null,
            "align_items": null,
            "align_self": null,
            "border": null,
            "bottom": null,
            "display": null,
            "flex": null,
            "flex_flow": null,
            "grid_area": null,
            "grid_auto_columns": null,
            "grid_auto_flow": null,
            "grid_auto_rows": null,
            "grid_column": null,
            "grid_gap": null,
            "grid_row": null,
            "grid_template_areas": null,
            "grid_template_columns": null,
            "grid_template_rows": null,
            "height": null,
            "justify_content": null,
            "justify_items": null,
            "left": null,
            "margin": null,
            "max_height": null,
            "max_width": null,
            "min_height": null,
            "min_width": null,
            "object_fit": null,
            "object_position": null,
            "order": null,
            "overflow": null,
            "overflow_x": null,
            "overflow_y": null,
            "padding": null,
            "right": null,
            "top": null,
            "visibility": null,
            "width": null
          }
        },
        "63772dbd5f3847c293f33f8ae17b4b2f": {
          "model_module": "@jupyter-widgets/controls",
          "model_name": "SliderStyleModel",
          "model_module_version": "1.5.0",
          "state": {
            "_model_module": "@jupyter-widgets/controls",
            "_model_module_version": "1.5.0",
            "_model_name": "SliderStyleModel",
            "_view_count": null,
            "_view_module": "@jupyter-widgets/base",
            "_view_module_version": "1.2.0",
            "_view_name": "StyleView",
            "description_width": "",
            "handle_color": null
          }
        },
        "0505d956a1344f75a3277db36f355899": {
          "model_module": "@jupyter-widgets/base",
          "model_name": "LayoutModel",
          "model_module_version": "1.2.0",
          "state": {
            "_model_module": "@jupyter-widgets/base",
            "_model_module_version": "1.2.0",
            "_model_name": "LayoutModel",
            "_view_count": null,
            "_view_module": "@jupyter-widgets/base",
            "_view_module_version": "1.2.0",
            "_view_name": "LayoutView",
            "align_content": null,
            "align_items": null,
            "align_self": null,
            "border": null,
            "bottom": null,
            "display": null,
            "flex": null,
            "flex_flow": null,
            "grid_area": null,
            "grid_auto_columns": null,
            "grid_auto_flow": null,
            "grid_auto_rows": null,
            "grid_column": null,
            "grid_gap": null,
            "grid_row": null,
            "grid_template_areas": null,
            "grid_template_columns": null,
            "grid_template_rows": null,
            "height": null,
            "justify_content": null,
            "justify_items": null,
            "left": null,
            "margin": null,
            "max_height": null,
            "max_width": null,
            "min_height": null,
            "min_width": null,
            "object_fit": null,
            "object_position": null,
            "order": null,
            "overflow": null,
            "overflow_x": null,
            "overflow_y": null,
            "padding": null,
            "right": null,
            "top": null,
            "visibility": null,
            "width": null
          }
        },
        "92488a3fc160447d8b8bc84d4e4b3447": {
          "model_module": "@jupyter-widgets/controls",
          "model_name": "SliderStyleModel",
          "model_module_version": "1.5.0",
          "state": {
            "_model_module": "@jupyter-widgets/controls",
            "_model_module_version": "1.5.0",
            "_model_name": "SliderStyleModel",
            "_view_count": null,
            "_view_module": "@jupyter-widgets/base",
            "_view_module_version": "1.2.0",
            "_view_name": "StyleView",
            "description_width": "",
            "handle_color": null
          }
        },
        "3d4c398a499740ccbb69d9b99c34225d": {
          "model_module": "@jupyter-widgets/base",
          "model_name": "LayoutModel",
          "model_module_version": "1.2.0",
          "state": {
            "_model_module": "@jupyter-widgets/base",
            "_model_module_version": "1.2.0",
            "_model_name": "LayoutModel",
            "_view_count": null,
            "_view_module": "@jupyter-widgets/base",
            "_view_module_version": "1.2.0",
            "_view_name": "LayoutView",
            "align_content": null,
            "align_items": null,
            "align_self": null,
            "border": null,
            "bottom": null,
            "display": null,
            "flex": null,
            "flex_flow": null,
            "grid_area": null,
            "grid_auto_columns": null,
            "grid_auto_flow": null,
            "grid_auto_rows": null,
            "grid_column": null,
            "grid_gap": null,
            "grid_row": null,
            "grid_template_areas": null,
            "grid_template_columns": null,
            "grid_template_rows": null,
            "height": null,
            "justify_content": null,
            "justify_items": null,
            "left": null,
            "margin": null,
            "max_height": null,
            "max_width": null,
            "min_height": null,
            "min_width": null,
            "object_fit": null,
            "object_position": null,
            "order": null,
            "overflow": null,
            "overflow_x": null,
            "overflow_y": null,
            "padding": null,
            "right": null,
            "top": null,
            "visibility": null,
            "width": null
          }
        },
        "1ce7266d41504ff98e73edc8a16abc3f": {
          "model_module": "@jupyter-widgets/controls",
          "model_name": "SliderStyleModel",
          "model_module_version": "1.5.0",
          "state": {
            "_model_module": "@jupyter-widgets/controls",
            "_model_module_version": "1.5.0",
            "_model_name": "SliderStyleModel",
            "_view_count": null,
            "_view_module": "@jupyter-widgets/base",
            "_view_module_version": "1.2.0",
            "_view_name": "StyleView",
            "description_width": "",
            "handle_color": null
          }
        },
        "ea7774bb272e48e497993689dc7ab952": {
          "model_module": "@jupyter-widgets/base",
          "model_name": "LayoutModel",
          "model_module_version": "1.2.0",
          "state": {
            "_model_module": "@jupyter-widgets/base",
            "_model_module_version": "1.2.0",
            "_model_name": "LayoutModel",
            "_view_count": null,
            "_view_module": "@jupyter-widgets/base",
            "_view_module_version": "1.2.0",
            "_view_name": "LayoutView",
            "align_content": null,
            "align_items": null,
            "align_self": null,
            "border": null,
            "bottom": null,
            "display": null,
            "flex": null,
            "flex_flow": null,
            "grid_area": null,
            "grid_auto_columns": null,
            "grid_auto_flow": null,
            "grid_auto_rows": null,
            "grid_column": null,
            "grid_gap": null,
            "grid_row": null,
            "grid_template_areas": null,
            "grid_template_columns": null,
            "grid_template_rows": null,
            "height": null,
            "justify_content": null,
            "justify_items": null,
            "left": null,
            "margin": null,
            "max_height": null,
            "max_width": null,
            "min_height": null,
            "min_width": null,
            "object_fit": null,
            "object_position": null,
            "order": null,
            "overflow": null,
            "overflow_x": null,
            "overflow_y": null,
            "padding": null,
            "right": null,
            "top": null,
            "visibility": null,
            "width": null
          }
        },
        "95084b6ee0e84ed9a682fa8f75025692": {
          "model_module": "@jupyter-widgets/controls",
          "model_name": "SliderStyleModel",
          "model_module_version": "1.5.0",
          "state": {
            "_model_module": "@jupyter-widgets/controls",
            "_model_module_version": "1.5.0",
            "_model_name": "SliderStyleModel",
            "_view_count": null,
            "_view_module": "@jupyter-widgets/base",
            "_view_module_version": "1.2.0",
            "_view_name": "StyleView",
            "description_width": "",
            "handle_color": null
          }
        },
        "2ae83fe37ec0469295b3dfb430bee5b1": {
          "model_module": "@jupyter-widgets/base",
          "model_name": "LayoutModel",
          "model_module_version": "1.2.0",
          "state": {
            "_model_module": "@jupyter-widgets/base",
            "_model_module_version": "1.2.0",
            "_model_name": "LayoutModel",
            "_view_count": null,
            "_view_module": "@jupyter-widgets/base",
            "_view_module_version": "1.2.0",
            "_view_name": "LayoutView",
            "align_content": null,
            "align_items": null,
            "align_self": null,
            "border": null,
            "bottom": null,
            "display": null,
            "flex": null,
            "flex_flow": null,
            "grid_area": null,
            "grid_auto_columns": null,
            "grid_auto_flow": null,
            "grid_auto_rows": null,
            "grid_column": null,
            "grid_gap": null,
            "grid_row": null,
            "grid_template_areas": null,
            "grid_template_columns": null,
            "grid_template_rows": null,
            "height": null,
            "justify_content": null,
            "justify_items": null,
            "left": null,
            "margin": null,
            "max_height": null,
            "max_width": null,
            "min_height": null,
            "min_width": null,
            "object_fit": null,
            "object_position": null,
            "order": null,
            "overflow": null,
            "overflow_x": null,
            "overflow_y": null,
            "padding": null,
            "right": null,
            "top": null,
            "visibility": null,
            "width": null
          }
        }
      }
    }
  },
  "cells": [
    {
      "cell_type": "markdown",
      "metadata": {
        "id": "GfceYQ9A5c7v"
      },
      "source": [
        "# Setup"
      ]
    },
    {
      "cell_type": "code",
      "metadata": {
        "id": "0sXn1suf5c8D"
      },
      "source": [
        "import numpy as np\n",
        "import pylab as plt\n",
        "from ipywidgets import interact\n",
        "\n",
        "ground_truth = lambda x: x * np.sin(x*2)\n",
        "def get_data(ground_truth, n_samples, noise=0.5):\n",
        "    X = np.random.uniform(0, 6, n_samples)\n",
        "    y = ground_truth(X) + np.random.randn(*X.shape)*noise\n",
        "    return X, y"
      ],
      "execution_count": null,
      "outputs": []
    },
    {
      "cell_type": "markdown",
      "metadata": {
        "id": "TNx62nK85c8J"
      },
      "source": [
        "# Gaussian Processes"
      ]
    },
    {
      "cell_type": "markdown",
      "metadata": {
        "id": "9ATBsxaA5c8P"
      },
      "source": [
        "In this exercise, we will implement a Gaussian process for regession."
      ]
    },
    {
      "cell_type": "code",
      "metadata": {
        "colab": {
          "base_uri": "https://localhost:8080/",
          "height": 265
        },
        "id": "tV4daFb65c8T",
        "outputId": "73fe5c7a-6f05-40d1-ff53-506e15c02726"
      },
      "source": [
        "np.random.seed(5)\n",
        "X, y = get_data(ground_truth, n_samples=11)\n",
        "axis = np.linspace(0, 6, 101)\n",
        "\n",
        "plt.plot(axis, ground_truth(axis), label='Ground Truth')\n",
        "plt.scatter(X, y, label='Training Data')\n",
        "plt.legend()\n",
        "plt.show()"
      ],
      "execution_count": null,
      "outputs": [
        {
          "output_type": "display_data",
          "data": {
            "text/plain": [
              "<Figure size 432x288 with 1 Axes>"
            ],
            "image/png": "[encoded data removed]"
          },
          "metadata": {
            "needs_background": "light"
          }
        }
      ]
    },
    {
      "cell_type": "markdown",
      "metadata": {
        "id": "92I0YpAc5c8W"
      },
      "source": [
        "## Kernel functions\n",
        "Implement the kernel functions which are defined below.\n",
        "\n",
        "> Exponential Covariance (Equation 6.63): $$k(\\mathbf{x}_n, \\mathbf{x}_m)  = \\theta_0 \\exp\\left( - \\frac{\\theta_1}{2} \\Vert \\mathbf{x}_n - \\mathbf{x}_m \\Vert^2 \\right) + \\theta_2 + \\theta_3 \\mathbf{x}_n^T\\mathbf{x}_m.$$\n",
        "> Exponential Kernel (Equation 6.56): $$k\\left(x, x^{\\prime}\\right)=\\exp \\left(-\\theta\\left|x-x^{\\prime}\\right|\\right)$$"
      ]
    },
    {
      "cell_type": "code",
      "metadata": {
        "colab": {
          "base_uri": "https://localhost:8080/"
        },
        "id": "5Eh5N2hA5c8Z",
        "outputId": "f5cbda2f-37c2-4796-9e72-3da132f711d0"
      },
      "source": [
        "class ExponentialCovariance:\n",
        "    \"\"\"Gaussian kernel from Eq. 6.63.\"\"\"\n",
        "    def __init__(self, theta0=1, theta1=1, theta2=0, theta3=0):\n",
        "        self.theta0 = theta0\n",
        "        self.theta1 = theta1\n",
        "        self.theta2 = theta2\n",
        "        self.theta3 = theta3\n",
        "\n",
        "    def __call__(self, x, y):\n",
        "        x, y = np.array(x), np.array(y)\n",
        "        return self.theta0 * np.exp(- (self.theta1/2) * np.sum((x-y)**2) + self.theta2 + self.theta3*np.dot(x, y))\n",
        "\n",
        "kernel = ExponentialCovariance()\n",
        "kernel(2, 1) # should return 0.6065306597126334"
      ],
      "execution_count": null,
      "outputs": [
        {
          "output_type": "execute_result",
          "data": {
            "text/plain": [
              "0.6065306597126334"
            ]
          },
          "metadata": {},
          "execution_count": 3
        }
      ]
    },
    {
      "cell_type": "code",
      "metadata": {
        "colab": {
          "base_uri": "https://localhost:8080/"
        },
        "id": "HQ4cDne55c8b",
        "outputId": "def2566a-4234-4f3e-f979-a80e42fe6464"
      },
      "source": [
        "class ExponentialKernel:\n",
        "    \"\"\"Exponential kernel from Eq. 6.56.\"\"\"\n",
        "    def __init__(self, theta=1):\n",
        "        self.theta = theta\n",
        "\n",
        "    def __call__(self, x, y):\n",
        "        return np.exp(- self.theta * np.abs(x - y))\n",
        "kernel = ExponentialKernel()\n",
        "kernel(2, 1) # should return 0.36787944117144233"
      ],
      "execution_count": null,
      "outputs": [
        {
          "output_type": "execute_result",
          "data": {
            "text/plain": [
              "0.36787944117144233"
            ]
          },
          "metadata": {},
          "execution_count": 4
        }
      ]
    },
    {
      "cell_type": "code",
      "metadata": {
        "colab": {
          "base_uri": "https://localhost:8080/",
          "height": 297,
          "referenced_widgets": [
            "d30f47600a0843e1bdb2653a3db0a4f3",
            "80c732db39104239b0ce159241482997",
            "513989b4ad804634a33fed8bf476266b",
            "80ff4b78a2b44866bf8c747df95b5ff0",
            "c1548466ca0e4b6ab58effcb41183259",
            "ba2a61a1cafc4b699fc9856818a98237",
            "5828da11c8564518948b28d815f6b5e5"
          ]
        },
        "id": "lrgPAeSj5c8e",
        "outputId": "ddee8b94-dcba-4544-95bc-54eef75398c1"
      },
      "source": [
        "@interact(theta=(-3, 3, 0.1))\n",
        "def plot(theta=1):\n",
        "    point = 0\n",
        "    axis = np.linspace(-3, 3, 201)\n",
        "\n",
        "    kernel = ExponentialCovariance()\n",
        "    plt.plot(axis, [kernel(0, x) for x in axis])\n",
        "\n",
        "    kernel = ExponentialKernel(theta)\n",
        "    plt.plot(axis, [kernel(0, x) for x in axis])"
      ],
      "execution_count": null,
      "outputs": [
        {
          "output_type": "display_data",
          "data": {
            "text/plain": [
              "interactive(children=(FloatSlider(value=1.0, description='theta', max=3.0, min=-3.0), Output()), _dom_classes=…"
            ],
            "application/vnd.jupyter.widget-view+json": {
              "version_major": 2,
              "version_minor": 0,
              "model_id": "d30f47600a0843e1bdb2653a3db0a4f3"
            }
          },
          "metadata": {}
        }
      ]
    },
    {
      "cell_type": "markdown",
      "metadata": {
        "id": "Io5Q7EUq5c8i"
      },
      "source": [
        "        Feel free to implement additional kernels from the lecture. They can be used in the resulting GP model."
      ]
    },
    {
      "cell_type": "markdown",
      "metadata": {
        "id": "HT8-MJ4f5c8l"
      },
      "source": [
        "## Prior Distribution\n",
        "\n",
        "> Implment the class `GaussianProcess` with the following methods:\n",
        "> - `__init__`: Initializes all hyperparameters of our model. In this case we need the corresponding kernel function we want to use.\n",
        "> - `prior_samples`: Provides random samples from the prior distribution over functions.\n"
      ]
    },
    {
      "cell_type": "code",
      "metadata": {
        "id": "SohnrksD5c8s"
      },
      "source": [
        "class GaussianProcess:\n",
        "    def __init__(self, kernel_func):\n",
        "        self.kernel_func = kernel_func\n",
        "\n",
        "    def prior_samples(self, X, n_samples):\n",
        "        mu = np.zeros_like(X)\n",
        "        cov = np.array([[self.kernel_func(x, y) for x in X] for y in X])\n",
        "        prior_samples = np.random.multivariate_normal(mu, cov, size=n_samples)\n",
        "        return prior_samples"
      ],
      "execution_count": null,
      "outputs": []
    },
    {
      "cell_type": "markdown",
      "metadata": {
        "id": "_L1s7SI_5c8u"
      },
      "source": [
        "> Plot samples according to the figure on slide 47."
      ]
    },
    {
      "cell_type": "code",
      "metadata": {
        "colab": {
          "base_uri": "https://localhost:8080/",
          "height": 227
        },
        "id": "Vsbxkpu85c8x",
        "outputId": "e881e0b4-a93f-4509-8f30-eb1af9e1e009"
      },
      "source": [
        "plt.figure(figsize=(10, 3))\n",
        "plt.subplot(121)\n",
        "plt.title('Exponential Covariance')\n",
        "kernel_func = ExponentialCovariance()\n",
        "gp = GaussianProcess(kernel_func)\n",
        "axis = np.linspace(0, 6, 201)\n",
        "plt.plot(axis, gp.prior_samples(axis, 5).T)\n",
        "\n",
        "plt.subplot(122)\n",
        "plt.title('Exponential Kernel')\n",
        "kernel_func = ExponentialKernel()\n",
        "gp = GaussianProcess(kernel_func)\n",
        "axis = np.linspace(0, 6, 201)\n",
        "plt.plot(axis, gp.prior_samples(axis, 5).T)\n",
        "\n",
        "plt.show()"
      ],
      "execution_count": null,
      "outputs": [
        {
          "output_type": "display_data",
          "data": {
            "text/plain": [
              "<Figure size 720x216 with 2 Axes>"
            ],
            "image/png": "[encoded data removed]"
          },
          "metadata": {
            "needs_background": "light"
          }
        }
      ]
    },
    {
      "cell_type": "markdown",
      "metadata": {
        "id": "HO_vK5ai5c8y"
      },
      "source": [
        "## Conditional distribution"
      ]
    },
    {
      "cell_type": "markdown",
      "metadata": {
        "id": "n8ziPCSV5c80"
      },
      "source": [
        "Our ultimate goal is to find the predictive distribution. That is, we seek to evaluate  $p(t_{N+1}| \\mathbf{t})$ for a new sample $\\mathbf{x}_{N+1}$.\n",
        "In order to find the conditional distribution $p(t_{N+1}| \\mathbf{t})$:\n",
        "1. We start by writing down the joint distribution $p(\\mathbf{t}_{N+1})$, where $\\mathbf{t}_{N+1}$ denotes the vector $(t_1,\\ldots,t_N, t_{N+1})^T$.\n",
        "2. We then apply the results from Section 2.3.1 to obtain the required conditional distribution.\n",
        "\n",
        "### Joint Distribution\n",
        "The joint distribution over $t_1, \\ldots, t_{N+1}$ will be given by $$\\quad p(\\mathbf{t}_{N+1}) = \\mathcal{N}(\\mathbf{t}_{N+1}| \\mathbf{0}, \\mathbf{C}_{n+1})$$\n",
        "where $\\mathbf{C}_{N+1}$ is an $(N+1)\\times(N+1)$ covariance matrix with elements given by $$\\quad C\\left(\\mathbf{x}_{n}, \\mathbf{x}_{m}\\right)=k\\left(\\mathbf{x}_{n}, \\mathbf{x}_{m}\\right)+\\beta^{-1} \\delta_{n m}$$\n",
        "Because the joint distribution is Gaussian, we can apply the results from Section 2.3.1 to find the conditional Gaussian distribution. To do this, we partition the covariance matrix as follows\n",
        "$$\\quad \\textbf{C}_{N+1} =  \\left( \\begin{array}{cc} \\textbf{C}_{N} & \\textbf{k}  \\\\ \\textbf{k}^{T} & c  \\\\ \\end{array} \\right)$$ where $\\mathbf{C}_N$ is the $N \\times N$ covariance matrix, the vector $\\mathbf{k}$ has elements $k(\\mathbf{x}_n, \\mathbf{x}_{N+1})$ for $n = 1,\\ldots,N$, and the scalar $c = k(\\mathbf{x}_{N+1}, \\mathbf{x}_{N+1}) + \\beta^{-1}$. We see that the conditional distribution $p(t_{N+1}|\\mathbf{t})$ is a Gaussian distribution with mean and covariance given by\n",
        "$$\\quad m(\\mathbf{x}_{N+1}) = \\mathbf{k}^T \\mathbf{C}_N^{-1}\\mathbf{t} \\quad \\quad \\sigma^2 (\\mathbf{x}_{N+1}) =  c - \\mathbf{k}^T\\mathbf{C}_n^{-1}\\mathbf{k}$$\n",
        "\n",
        "The only restriction on the kernel function is that the covariance matrix must be positive definite. If $\\lambda_i$ is an eigenvalue of $\\mathbf{K}$, then the corresponding eigenvalue of $\\mathbf{C}$ will be $\\lambda_i + \\beta^{-1}$.\n",
        "It is therefore sufficient that the kernel matrrix $k(\\mathbf{x}_n, \\mathbf{x}_m)$ be positive semidefinite for any pair of points $\\mathbf{x}_n$ and $\\mathbf{x}_m$, so that $\\lambda_i \\geq 0$, because any eigenvalue $\\lambda_i$ that is zero will still give rise to a positive eigenvalue for $\\mathbf{C}$ because $\\beta \\ge 0$.\n",
        "\n",
        "Note that the mean (6.66) of the predictive distribution can be written, as a function of $\\mathbf{x}_{N+1}$, in the form  $$\\quad m(\\mathbf{x}_{N+1}) = \\sum_{n=1}^{N} a_n k(\\mathbf{x}_n \\mathbf{x}_{N+1})$$ where $a_n$ is the $\\text{n}^{\\text{th}}$ component of $\\mathbf{C}_N^{-1}\\mathbf{t}$. Thus, if the kernel $k(\\mathbf{x}_n, \\mathbf{x}_m)$ depends only on the distance $\\Vert \\mathbf{x}_n - \\mathbf{x}_m \\Vert$, then we obtain an expansion on radial basis functions.\n",
        "The results (6.66) and (6.67) define the predictive distribution for Gaussian process regression with an arbitrary kernel function $k(\\mathbf{x}_n, \\mathbf{x}_m)$.\n",
        "> Implement the predict function based on Eq. 6.68 and extend this idea for the confidence sigma. Don't forget to extend previous functions to include the noise."
      ]
    },
    {
      "cell_type": "code",
      "metadata": {
        "id": "eGH_Q7Gn5c81"
      },
      "source": [
        "class GaussianProcess(GaussianProcess):\n",
        "    def fit(self, X, y, noise=.1):\n",
        "        self.X = X\n",
        "        self.y = y\n",
        "        self.noise = noise\n",
        "        self.cov_mat = np.array([[self.kernel_func(x, y) for x in self.X] for y in self.X]) + self.noise*np.eye(len(self.X))\n",
        "        self.cov_mat_inv = np.linalg.pinv(self.cov_mat)\n",
        "\n",
        "    def predict_conditional(self, inp):\n",
        "        k = np.array([self.kernel_func(inp, x) for x in self.X])\n",
        "        c = self.kernel_func(inp, inp) + self.noise\n",
        "\n",
        "        mean = k @ self.cov_mat_inv @ self.y\n",
        "        var = c - k @ self.cov_mat_inv @ k\n",
        "        return mean, var"
      ],
      "execution_count": null,
      "outputs": []
    },
    {
      "cell_type": "markdown",
      "metadata": {
        "id": "IdY64qof5c83"
      },
      "source": [
        "> Plot the predictions of the Gaussian Process with the corresponding dataset. Plot the standard deviation as done [here](https://stackoverflow.com/questions/45136420/filling-range-of-graph-in-matplotlib)."
      ]
    },
    {
      "cell_type": "code",
      "metadata": {
        "colab": {
          "base_uri": "https://localhost:8080/",
          "height": 320
        },
        "id": "_D2DiZiZ5c84",
        "outputId": "e5606300-a193-4c8a-a461-a3f301584844"
      },
      "source": [
        "fig = plt.figure(figsize=(13, 5))\n",
        "axis = np.linspace(min(X)-2, max(X)+2, 101)\n",
        "\n",
        "gp = GaussianProcess(ExponentialCovariance(1))\n",
        "gp.fit(X, y, noise=0.1)\n",
        "preds = np.array([gp.predict_conditional(x) for x in axis])\n",
        "\n",
        "mean = preds[:, 0]\n",
        "std = np.sqrt(preds[:, 1])\n",
        "\n",
        "plt.plot(axis, mean, label='Predictions')\n",
        "plt.plot(axis, ground_truth(axis), label='Ground Truth')\n",
        "plt.scatter(X, y)\n",
        "plt.fill_between(axis, mean-std, mean+std, color='red', alpha=.2, label='Std')\n",
        "plt.legend()\n",
        "plt.show()"
      ],
      "execution_count": null,
      "outputs": [
        {
          "output_type": "display_data",
          "data": {
            "text/plain": [
              "<Figure size 936x360 with 1 Axes>"
            ],
            "image/png": "[encoded data removed]"
          },
          "metadata": {
            "needs_background": "light"
          }
        }
      ]
    },
    {
      "cell_type": "markdown",
      "metadata": {
        "id": "dueiVHQ05c85"
      },
      "source": [
        "> Test your code with the following interactive plot and modify the parameters to be get an intuitive understanding for the behavior of the kernel.\n",
        "> You might have to adapt the code if it is not working out of the box with your own implementation."
      ]
    },
    {
      "cell_type": "code",
      "metadata": {
        "colab": {
          "base_uri": "https://localhost:8080/",
          "height": 498,
          "referenced_widgets": [
            "66496d4565294b7b9d9b4c093a92303c",
            "1eb374fc62964a66beb542e42f6c1101",
            "61627f22a31b498bad8f3fabfe557e42",
            "58d9ca32fafc42f48b9b02eb8f410075",
            "c1ea7d8944c84a868d29787c3e9084b8",
            "4f9a31c46b564517be405305b839c948",
            "9f4c5aa726a94db8b212c881d23c1f25",
            "3771029ad3074a8ea62f480a2f2f0710",
            "3f436b4d7fe14761b227c51991fb49ce",
            "098449a3bcc64f62be9fc6570e8a7f88",
            "80eba15b3f9c4cd3bf91ef037b5d1084",
            "63772dbd5f3847c293f33f8ae17b4b2f",
            "0505d956a1344f75a3277db36f355899",
            "92488a3fc160447d8b8bc84d4e4b3447",
            "3d4c398a499740ccbb69d9b99c34225d",
            "1ce7266d41504ff98e73edc8a16abc3f",
            "ea7774bb272e48e497993689dc7ab952",
            "95084b6ee0e84ed9a682fa8f75025692",
            "2ae83fe37ec0469295b3dfb430bee5b1"
          ]
        },
        "id": "TIFWxOCm5c86",
        "outputId": "2abe8b2f-5a0d-4e60-d7cf-1817cbd6334b"
      },
      "source": [
        "def plot_predict_conditional(noise=.2, theta0=1, theta1=1, theta2=0, theta3=0):\n",
        "    kernel_func = ExponentialCovariance(theta0=theta0, theta1=theta1, theta2=theta2, theta3=theta3)\n",
        "    gp = GaussianProcess(kernel_func)\n",
        "    gp.fit(X, y, noise=noise)\n",
        "\n",
        "    fig = plt.figure(figsize=(13, 5))\n",
        "    axis = np.linspace(min(X)-2, max(X)+2, 101)\n",
        "\n",
        "    preds = np.array([gp.predict_conditional(x) for x in axis])\n",
        "\n",
        "    mean = preds[:, 0]\n",
        "    std = np.sqrt(preds[:, 1])\n",
        "\n",
        "    plt.plot(axis, mean, label='Predictions')\n",
        "    plt.plot(axis, ground_truth(axis), label='Ground Truth')\n",
        "    plt.scatter(X, y)\n",
        "    plt.fill_between(axis, mean-std, mean+std, color='red', alpha=.2, label='Std')\n",
        "    plt.legend(loc=2)\n",
        "    plt.show()\n",
        "\n",
        "interact(plot_predict_conditional,  noise=(0.01, 1, 1e-3), theta0=(0, 5, .1), theta1=(0, 5, .1), theta2=(0, 5, .1), theta3=(0, 5, .1))"
      ],
      "execution_count": null,
      "outputs": [
        {
          "output_type": "display_data",
          "data": {
            "text/plain": [
              "interactive(children=(FloatSlider(value=0.2, description='noise', max=1.0, min=0.01, step=0.001), FloatSlider(…"
            ],
            "application/vnd.jupyter.widget-view+json": {
              "version_major": 2,
              "version_minor": 0,
              "model_id": "66496d4565294b7b9d9b4c093a92303c"
            }
          },
          "metadata": {}
        },
        {
          "output_type": "execute_result",
          "data": {
            "text/plain": [
              "<function __main__.plot_predict_conditional>"
            ]
          },
          "metadata": {},
          "execution_count": 10
        }
      ]
    }
  ]
}