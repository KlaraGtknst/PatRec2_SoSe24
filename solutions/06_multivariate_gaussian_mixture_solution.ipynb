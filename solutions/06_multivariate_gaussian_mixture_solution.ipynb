{
  "nbformat": 4,
  "nbformat_minor": 0,
  "metadata": {
    "kernelspec": {
      "display_name": "Python 3",
      "language": "python",
      "name": "python3"
    },
    "language_info": {
      "codemirror_mode": {
        "name": "ipython",
        "version": 3
      },
      "file_extension": ".py",
      "mimetype": "text/x-python",
      "name": "python",
      "nbconvert_exporter": "python",
      "pygments_lexer": "ipython3",
      "version": "3.8.5"
    },
    "colab": {
      "provenance": []
    }
  },
  "cells": [
    {
      "cell_type": "markdown",
      "metadata": {
        "id": "8V8bH4DJKXaf"
      },
      "source": [
        "# Setup"
      ]
    },
    {
      "cell_type": "code",
      "metadata": {
        "colab": {
          "base_uri": "https://localhost:8080/",
          "height": 430
        },
        "id": "1rZ4oOtFKXak",
        "outputId": "8c90bdd4-049b-44ce-a00a-13aa7b9d6a48"
      },
      "source": [
        "import numpy as np\n",
        "import matplotlib as mpl\n",
        "import pylab as plt\n",
        "from scipy.stats import multivariate_normal\n",
        "\n",
        "def get_data():\n",
        "    np.random.seed(42)\n",
        "    # training data\n",
        "    x1 = np.random.normal(size=(100, 2))\n",
        "    x1 += np.array([-5, -5])\n",
        "    x2 = np.random.normal(size=(50, 2))\n",
        "    x2 += np.array([5, -5])\n",
        "    x3 = np.random.normal(size=(75, 2))\n",
        "    x3 += np.array([0, 5])\n",
        "    X = np.vstack((x1, x2, x3))\n",
        "    return X\n",
        "\n",
        "X = get_data()\n",
        "plt.scatter(X[:, 0], X[:, 1])\n",
        "plt.show()"
      ],
      "execution_count": null,
      "outputs": [
        {
          "output_type": "display_data",
          "data": {
            "text/plain": [
              "<Figure size 640x480 with 1 Axes>"
            ],
            "image/png": "[encoded data removed]"
          },
          "metadata": {}
        }
      ]
    },
    {
      "cell_type": "markdown",
      "metadata": {
        "id": "sdo0nyg6KXar"
      },
      "source": [
        "# **Gaussian Mixture Models**\n",
        "In this notebook, we will look at density modeling with *Gaussian mixture models* (GMMs), which describe the density of a data sample $\\boldsymbol{x} \\in \\mathbb{R}^D$ as\n",
        "$$\n",
        "p(\\boldsymbol x) = \\sum_{k=1}^K \\pi_k \\mathcal{N}(\\boldsymbol x|\\boldsymbol \\mu_k, \\boldsymbol \\Sigma_k)\\,,\\, \\text{ with } \\boldsymbol{\\mu}_k \\in \\mathbb{R}^D\\,,\\, \\boldsymbol{\\Sigma}_k \\in \\mathbb{R}^{D \\times D}\\,,\\, \\pi_k \\geq 0\\,,\\, \\sum_{k=1}^K\\pi_k = 1.\n",
        "$$\n",
        "\n",
        "The goal of this notebook is to get a better understanding of GMMs and to write some code for training GMMs using the *expectation-maximization-algorithm* (EM-algorithm) . We provide a code skeleton and mark the bits and pieces that you need to implement yourself."
      ]
    },
    {
      "cell_type": "markdown",
      "metadata": {
        "id": "Z8iM8S1DKXat"
      },
      "source": [
        "\n",
        "We define the responsibilities (which are updated in the E-step), given the model parameters $\\pi_k, \\boldsymbol\\mu_k, \\boldsymbol\\Sigma_k$ as\n",
        "$$\n",
        "r_{nk} = \\frac{\\pi_k\\mathcal N(\\boldsymbol\n",
        "          x_n|\\boldsymbol\\mu_k,\\boldsymbol\\Sigma_k)}{\\sum_{j=1}^K\\pi_j\\mathcal N(\\boldsymbol\n",
        "          x_n|\\boldsymbol \\mu_j,\\boldsymbol\\Sigma_j)}.\n",
        "$$          \n",
        "Given the responsibilities we just defined, we can update the model parameters in the M-step as follows:\n",
        "\\begin{align*}\n",
        "\\boldsymbol\\mu_k^\\text{new} &= \\frac{1}{N_k}\\sum_{n = 1}^Nr_{nk}\\boldsymbol x_n\\,,\\\\\n",
        "   \\boldsymbol\\Sigma_k^\\text{new}&= \\frac{1}{N_k}\\sum_{n=1}^Nr_{nk}(\\boldsymbol x_n-\\boldsymbol\\mu_k)(\\boldsymbol x_n-\\boldsymbol\\mu_k)^\\top\\,,\\\\\n",
        "   \\pi_k^\\text{new} &= \\frac{N_k}{N},\n",
        "\\end{align*}\n",
        "where $$\n",
        "N_k = \\sum_{n=1}^N r_{nk}.\n",
        "$$\n",
        "\n",
        "> **Implement a GMM with the EM-algorithm**"
      ]
    },
    {
      "cell_type": "code",
      "metadata": {
        "id": "nC1-b22aKXau"
      },
      "source": [
        "class GMM:\n",
        "    \"\"\"A GMM which is fitted through the EM-algorithm.\n",
        "\n",
        "    Args:\n",
        "        K (int): Number of components to be specified.\n",
        "        n_iterations (int): Number of iterations of performing the EM algorithm.\n",
        "        random_state (int): Random state to ensure reproducibility.\n",
        "\n",
        "    \"\"\"\n",
        "    def __init__(self, K=3, n_iterations=10, random_state=5):\n",
        "        self.K = K\n",
        "        self.n_iterations = n_iterations\n",
        "        self.random_state = random_state\n",
        "\n",
        "    def density(self, X):\n",
        "        \"\"\"Computes component-wise densities of given samples.\n",
        "\n",
        "        Args:\n",
        "            X (array-like):  Samples whose densities are to be computed with shape (N, D).\n",
        "\n",
        "        Returns:\n",
        "            ndarray:  Computed densities per sample and component with shape (N, K).\n",
        "        \"\"\"\n",
        "        # Stores density of each sample.\n",
        "        densities = np.empty((len(X), self.K))\n",
        "\n",
        "        # Iterate over each component.\n",
        "        for k in range(self.K):\n",
        "            # Compute mixture weighted densities for k-th component.\n",
        "            densities_k = multivariate_normal(self.mu_[k], self.Sigma_[k]).pdf(X) * self.pi_[k]\n",
        "            densities[:, k] = densities_k\n",
        "\n",
        "        return densities\n",
        "\n",
        "    def negative_log_likelihood(self, X):\n",
        "        \"\"\"Computes negative loglikelihood (NLL) for given samples.\n",
        "\n",
        "        Args:\n",
        "            X (array-like): Samples for which NLL is to be computed with shape (N, D).\n",
        "\n",
        "        Returns:\n",
        "            float: Computed negative log-likelihood.\n",
        "        \"\"\"\n",
        "        # Compute negative log-likelihood.\n",
        "        NLL = -np.sum(np.log(np.sum(self.density(X), axis=1)))\n",
        "        return NLL\n",
        "\n",
        "    def fit(self, X, y=None):\n",
        "        \"\"\"Fits the GMM by performing the EM-algorithm.\n",
        "\n",
        "        Args:\n",
        "            X (array-like): Training samples with shape (N, D).\n",
        "\n",
        "        Returns:\n",
        "            self: The fitted GMM.\n",
        "        \"\"\"\n",
        "        # Transform to ndarray.\n",
        "        X = np.array(X)\n",
        "\n",
        "        # Store number of features.\n",
        "        self.D_ = X.shape[1]\n",
        "\n",
        "        # Set randomly inital parameters.\n",
        "        self._set_inital_parameters()\n",
        "\n",
        "        # Store negative log-likelihood value after each iteration.\n",
        "        self._NLL_history = np.empty(self.n_iterations+1)\n",
        "\n",
        "        # Compute initial negative log-likelihood value.\n",
        "        self._NLL_history[0] = self.negative_log_likelihood(X)\n",
        "\n",
        "        # Perform EM algorithm.\n",
        "        for i in range(1, self.n_iterations+1):\n",
        "\n",
        "            # E-step: Compute responsibilities.\n",
        "            R = self._expectation(X)\n",
        "\n",
        "            # M-step: Update GMM parameters.\n",
        "            self._maximization(X, R)\n",
        "\n",
        "            # Store updated parameters.\n",
        "            self._mu_history[i] = self.mu_\n",
        "            self._Sigma_history[i] = self.Sigma_\n",
        "            self._pi_history[i] = self.pi_\n",
        "\n",
        "            # Compute negative log-likelihood value.\n",
        "            self._NLL_history[i] = self.negative_log_likelihood(X)\n",
        "\n",
        "        return self\n",
        "\n",
        "    def predict(self, X):\n",
        "        \"\"\"Predicts components with highest responsibility per sample.\n",
        "\n",
        "        Args:\n",
        "            X (array-like): Samples whose most likely components are to be predicted with shape (N, D).\n",
        "\n",
        "\n",
        "        Returns:\n",
        "            ndarray:  Most likely components from which the samples were generated with shape (N).\n",
        "        \"\"\"\n",
        "        y_components = self._expectation(X).argmax(axis=1)\n",
        "        return y_components\n",
        "\n",
        "    def predict_proba(self, X):\n",
        "        \"\"\"Predicts responsibilities of given samples.\n",
        "\n",
        "        Args:\n",
        "            X (array-like): Samples (N, D) whose responsibilities are to be computed.\n",
        "\n",
        "        Returns:\n",
        "            array-like: Computed responsibilities with shape (N, K).\n",
        "\n",
        "        \"\"\"\n",
        "        R = self._expectation(X)\n",
        "        return R\n",
        "\n",
        "    def _set_inital_parameters(self):\n",
        "        \"\"\" Initializes the parameters of the GMM randomly. \"\"\"\n",
        "        # Defines random state for reproducibility.\n",
        "        random_state = np.random.RandomState(self.random_state)\n",
        "\n",
        "        # Storage for GMM parameters.\n",
        "        self.mu_ = np.empty((self.K, self.D_))\n",
        "        self.Sigma_ = np.empty((self.K, self.D_, self.D_))\n",
        "        self.pi_ = np.empty((self.K))\n",
        "\n",
        "        # Iterate over components.\n",
        "        for k in range(self.K):\n",
        "\n",
        "            # Initialize mean vector for the k-th component.\n",
        "            mu_k = random_state.normal(self.D_, scale=0.5)\n",
        "            self.mu_[k] = mu_k\n",
        "\n",
        "            # Initialize covariance maxtrix for the k-th component.\n",
        "            Sigma_k = np.eye(self.D_)\n",
        "            self.Sigma_[k] = Sigma_k\n",
        "\n",
        "        # Initialize mixture weights for all components.\n",
        "        self.pi_ = np.ones(self.K)/self.K\n",
        "\n",
        "        # Store history of parameters which will be used for plotting.\n",
        "        self._mu_history = np.empty((self.n_iterations+1, self.K, self.D_))\n",
        "        self._mu_history[0] = self.mu_\n",
        "        self._Sigma_history = np.empty((self.n_iterations+1, self.K, self.D_, self.D_))\n",
        "        self._Sigma_history[0] = self.Sigma_\n",
        "        self._pi_history = np.empty((self.n_iterations+1, self.K))\n",
        "        self._pi_history[0] = self.pi_\n",
        "\n",
        "    def _expectation(self, X):\n",
        "        \"\"\"Implements E-step by computing responsibilities.\n",
        "\n",
        "        Args:\n",
        "            X (array-like): Samples whose responsibilities are to be computed with shape (N, D).\n",
        "\n",
        "\n",
        "        Returns:\n",
        "            array-like: Computed responsibilities with shape (N, K).\n",
        "\n",
        "        \"\"\"\n",
        "        R = self.density(X)\n",
        "        row_sums = np.sum(R, axis=1, keepdims=True)\n",
        "        R = R / row_sums\n",
        "        return R\n",
        "\n",
        "    def _maximization(self, X, R):\n",
        "        \"\"\"Implements M-step by updating GMM parameters.\n",
        "\n",
        "        Args:\n",
        "            X (array-like): Samples whose responsibilities are to be computed with shape (N, D).\n",
        "            R (array-like): Responsibilities of samples with (N, K).\n",
        "\n",
        "        \"\"\"\n",
        "        # Compute estimated number of samples per component.\n",
        "        N_k = np.sum(R, axis=0) + 1e-8\n",
        "\n",
        "        # Update mixture weights by normalizing N_k.\n",
        "        self.pi_ = N_k/len(X)\n",
        "\n",
        "        # Update mean vectors.\n",
        "        self.mu_ = R.T @ X / N_k[:, np.newaxis]\n",
        "        for k in range(self.K):\n",
        "\n",
        "            # Update covariance matrix for the k-th component.\n",
        "            diff = X - self.mu_[k]\n",
        "            Sigma_k = np.dot(R[:, k] * diff.T, diff) / N_k[k]\n",
        "            Sigma_k[::self.D_ + 1] += 1.e-8\n",
        "            self.Sigma_[k] = Sigma_k"
      ],
      "execution_count": null,
      "outputs": []
    },
    {
      "cell_type": "markdown",
      "metadata": {
        "id": "0jgLH2svKXay"
      },
      "source": [
        "> **Plot the data and the density of the fitted GMM.** You can plot the density by using contour and the provided meshgrid."
      ]
    },
    {
      "cell_type": "code",
      "metadata": {
        "colab": {
          "base_uri": "https://localhost:8080/",
          "height": 269
        },
        "id": "ZTVJnr20KXaz",
        "outputId": "d569ffd3-cc10-41cc-fb67-80055bf2e567"
      },
      "source": [
        "X_mesh, Y_mesh = np.meshgrid(np.linspace(-10, 10, 100), np.linspace(-10, 10, 100))\n",
        "pos = np.column_stack([X_mesh.ravel(), Y_mesh.ravel()])\n",
        "\n",
        "X = get_data()\n",
        "gmm = GMM()\n",
        "gmm.fit(X)\n",
        "\n",
        "y_component = gmm.predict(X) # <-- SOLUTION\n",
        "plt.scatter(X[:, 0], X[:, 1], c=y_component, zorder=3)\n",
        "\n",
        "out = gmm.density(pos).sum(-1)\n",
        "plt.contour(X_mesh, Y_mesh, out.reshape(X_mesh.shape),  alpha=1.0, zorder=4)\n",
        "plt.show()"
      ],
      "execution_count": null,
      "outputs": [
        {
          "output_type": "display_data",
          "data": {
            "image/png": "[encoded data removed]",
            "text/plain": [
              "<Figure size 432x288 with 1 Axes>"
            ]
          },
          "metadata": {
            "tags": [],
            "needs_background": "light"
          }
        }
      ]
    },
    {
      "cell_type": "code",
      "metadata": {
        "id": "K_mqLKGZKXa0"
      },
      "source": [
        "plt.figure(figsize=(25, 5))\n",
        "n_rows = 2\n",
        "n_cols = int(np.ceil(len(gmm._mu_history) / n_rows))\n",
        "\n",
        "for i_iter, (mu, Sigma, pi) in enumerate(zip(gmm._mu_history, gmm._Sigma_history, gmm._pi_history)):\n",
        "    plt.subplot(n_rows, n_cols, 1+i_iter)\n",
        "    gmm.mu_ = mu\n",
        "    gmm.Sigma_ = Sigma\n",
        "    gmm.pi_ = pi\n",
        "\n",
        "    out = gmm.density(pos).sum(-1)\n",
        "    plt.scatter(X[:, 0], X[:, 1])\n",
        "    plt.contour(X_mesh, Y_mesh, out.reshape(X_mesh.shape),  alpha=1.0, zorder=6)\n",
        "plt.show()"
      ],
      "execution_count": null,
      "outputs": []
    },
    {
      "cell_type": "markdown",
      "metadata": {
        "id": "tRgFtvM5KXa2"
      },
      "source": [
        "#### **Questions:**\n",
        "\n",
        "1. Can the NLL increase while performing the EM-Algorithm?\n",
        "### SOLUTION ###   \n",
        "   No, the EM-algorithm is guaranteed to obtain a non-negative decrease of the NLL in each iteration.   \n",
        "   \n",
        "2. Is the EM-algorithm for the GMM guaranteed to converge?\n",
        "\n",
        "### SOLUTION ###   \n",
        "   No, there can be cases, where in inifinite iterations the NLL is gradually decreased.   \n",
        "   \n",
        "3. How can we use the NLL as criterion for stopping the training of the GMM?\n",
        "\n",
        "### SOLUTION ###   \n",
        "   We could stop training, if the absolute difference between the NLLs of two successive iterations drops below a user-defined threshold (hyperparameter).    "
      ]
    },
    {
      "cell_type": "code",
      "source": [
        "r1 = np.random.randn(5)\n",
        "r2 = np.ones((5, 2))\n",
        "\n",
        "r1.reshape(-1, 1).shape"
      ],
      "metadata": {
        "colab": {
          "base_uri": "https://localhost:8080/"
        },
        "id": "QzTr2RGaDwqc",
        "outputId": "e92f0aaf-2ac7-433f-92a9-b746a69b2387"
      },
      "execution_count": null,
      "outputs": [
        {
          "output_type": "execute_result",
          "data": {
            "text/plain": [
              "(5, 1)"
            ]
          },
          "metadata": {},
          "execution_count": 24
        }
      ]
    },
    {
      "cell_type": "code",
      "source": [
        "N, K =\n",
        "np.empty(N, K)"
      ],
      "metadata": {
        "id": "45oHSsWmEl_T"
      },
      "execution_count": null,
      "outputs": []
    }
  ]
}