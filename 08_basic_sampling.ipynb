{
  "cells": [
    {
      "cell_type": "markdown",
      "metadata": {
        "id": "wMT1xY-JfE5x"
      },
      "source": [
        "# Sampling Methods"
      ]
    },
    {
      "cell_type": "code",
      "execution_count": null,
      "metadata": {
        "id": "eqSC0Wh6fE5z"
      },
      "outputs": [],
      "source": [
        "import numpy as np\n",
        "import pylab as plt"
      ]
    },
    {
      "cell_type": "markdown",
      "metadata": {
        "id": "d70uwxz5fE5z"
      },
      "source": [
        "## Standard Distribution\n",
        "### Exponential\n",
        "\n",
        ">Transform the samples of an uniform distribution into samples from an exponential one (using the inversion method).\n",
        "> $$p(x | \\lambda)=\\left\\{\\begin{array}{ll}\n",
        "\\lambda \\mathrm{e}^{-\\lambda x} & x \\geq 0 \\\\\n",
        "0 & x<0 \\end{array}\\right.$$"
      ]
    },
    {
      "cell_type": "code",
      "execution_count": null,
      "metadata": {
        "id": "znDBZWPafE50"
      },
      "outputs": [],
      "source": [
        "class ExponentialDistribution:\n",
        "    def __init__(self, lmb):\n",
        "        self.lmb = lmb\n",
        "\n",
        "####################\n",
        "# Your Code Here   #\n",
        "####################\n",
        "\n",
        "    def sample(self, n_samples):\n",
        "####################\n",
        "# Your Code Here   #\n",
        "####################\n",
        "\n",
        "n_samples = 10000\n",
        "dist = ExponentialDistribution(lmb=1)\n",
        "y = dist.sample(n_samples)\n",
        "\n",
        "# Plot the samples\n",
        "####################\n",
        "# Your Code Here   #\n",
        "####################"
      ]
    },
    {
      "cell_type": "markdown",
      "metadata": {
        "id": "NrIaoTd8fE50"
      },
      "source": [
        "### Cosine\n",
        "> Transform the samples of an uniform distribution into samples from the following pdf (using the inversion method):\n",
        "> $$p(x) = \\left\\{\\begin{array}{lll}\n",
        "0 & x<0 \\\\\n",
        "\\cos (x)& x \\in [0, \\pi/2] \\\\\n",
        "0 & x>\\pi/2\n",
        "\\end{array}\\right.$$"
      ]
    },
    {
      "cell_type": "code",
      "execution_count": null,
      "metadata": {
        "id": "EwJDERJ3fE50"
      },
      "outputs": [],
      "source": [
        "class CosineDistribution:\n",
        "    def __init__(self, lmb):\n",
        "        self.lmb = lmb\n",
        "\n",
        "####################\n",
        "# Your Code Here   #\n",
        "####################\n",
        "\n",
        "    def sample(self, n_samples):\n",
        "####################\n",
        "# Your Code Here   #\n",
        "####################\n",
        "\n",
        "\n",
        "n_samples=10000\n",
        "dist = CosineDistribution(lmb=1)\n",
        "y = dist.sample(n_samples)\n",
        "\n",
        "# Plot the samples\n",
        "####################\n",
        "# Your Code Here   #\n",
        "####################"
      ]
    },
    {
      "cell_type": "markdown",
      "metadata": {
        "id": "-MyLWJqsfE50"
      },
      "source": [
        "### Logistic Distribution\n",
        ">Transform the samples of an uniform distribution into samples from the following pdf (using the inversion method):\n",
        ">$$p(x) = \\frac{e^{-x}}{\\left(1+e^{-x}\\right)^{2}} \\quad F(x) = \\frac{1}{1+e^{-x}}$$"
      ]
    },
    {
      "cell_type": "code",
      "execution_count": null,
      "metadata": {
        "id": "YLxFyepjfE51"
      },
      "outputs": [],
      "source": [
        "class LogisticDistribution:\n",
        "    def __init__(self, lmb):\n",
        "        self.lmb = lmb\n",
        "\n",
        "####################\n",
        "# Your Code Here   #\n",
        "####################\n",
        "\n",
        "    def sample(self, n_samples):\n",
        "####################\n",
        "# Your Code Here   #\n",
        "####################\n",
        "\n",
        "\n",
        "n_samples = 10000\n",
        "dist = LogisticDistribution(lmb=1)\n",
        "y = dist.sample(n_samples)\n",
        "\n",
        "# Plot the samples\n",
        "####################\n",
        "# Your Code Here   #\n",
        "####################"
      ]
    },
    {
      "cell_type": "markdown",
      "metadata": {
        "id": "KsogezwgfE51"
      },
      "source": [
        "## Box Muller\n",
        "\n",
        "> Implement the box muller algorithm to create samples from a **bivariate** normal distribution. Compare these samples, e.g., with a scatter plot."
      ]
    },
    {
      "cell_type": "code",
      "execution_count": null,
      "metadata": {
        "id": "mqZkzO0qfE51"
      },
      "outputs": [],
      "source": [
        "####################\n",
        "# Your Code Here   #\n",
        "####################"
      ]
    },
    {
      "cell_type": "markdown",
      "metadata": {
        "id": "uj_DcPaPfE51"
      },
      "source": [
        "## Box Muller for Mixture of Gaussians - Ancestral Sampling\n",
        "\n",
        "> Extend the code above to create samples from a mixture of Gaussians."
      ]
    },
    {
      "cell_type": "code",
      "execution_count": null,
      "metadata": {
        "id": "Crz-PZSjfE52"
      },
      "outputs": [],
      "source": [
        "coefs = [0.1, 0.4, 0.5]\n",
        "means = [[5, 5], [-5, 0], [2, 1],]\n",
        "covs = [\n",
        "    [[1, 0], [0, 1]],\n",
        "    [[3, -2], [-2, 3]],\n",
        "    [[.1, 0], [0, .1]],\n",
        "]\n",
        "sample_size = 200\n",
        "\n",
        "####################\n",
        "# Your Code Here   #\n",
        "####################"
      ]
    },
    {
      "cell_type": "markdown",
      "metadata": {
        "id": "DgIkgX0XfE52"
      },
      "source": [
        "## Rejection Sampling\n",
        "\n",
        "> Implement rejection sampling that allows the generation of samples from $p(z)$ using a proposal distribution $q$. Plot your samples to confirm your result.\n",
        "> How is the selection of the proposal function effecting the efficiency of the rejection sampling algorithm?"
      ]
    },
    {
      "cell_type": "code",
      "execution_count": null,
      "metadata": {
        "id": "PC1ZXqs7fE52"
      },
      "outputs": [],
      "source": [
        "from scipy.stats import norm as gauss\n",
        "np.random.seed(42)\n",
        "\n",
        "\n",
        "k = 15\n",
        "# You can use q_dist.rvs to sample from the Gaussian.\n",
        "q_dist = gauss(loc=np.array([2.]), scale=np.sqrt([2]))\n",
        "def p_dist(x):\n",
        "    return np.exp(-x ** 2) + 3 * np.exp(-(x - 3) ** 2)\n",
        "\n",
        "\n",
        "axis = np.linspace(-5, 10, 301)\n",
        "plt.plot(axis, p_dist(axis), label=r\"$\\tilde{p}(z)$\")\n",
        "plt.plot(axis, k * q_dist.pdf(axis), label=r\"$kq(z)$\")\n",
        "plt.fill_between(axis, p_dist(axis), k * q_dist.pdf(axis), color=\"gray\")\n",
        "plt.legend(fontsize=15)\n",
        "plt.show()"
      ]
    },
    {
      "cell_type": "code",
      "execution_count": null,
      "metadata": {
        "id": "iNKNPMmwfE52"
      },
      "outputs": [],
      "source": [
        "####################\n",
        "# Your Code Here   #\n",
        "####################"
      ]
    },
    {
      "cell_type": "code",
      "execution_count": null,
      "metadata": {
        "id": "EgvsBBdBfE52"
      },
      "outputs": [],
      "source": [
        "####################\n",
        "# Your Code Here   #\n",
        "####################"
      ]
    }
  ],
  "metadata": {
    "kernelspec": {
      "display_name": "Python 3",
      "language": "python",
      "name": "python3"
    },
    "language_info": {
      "codemirror_mode": {
        "name": "ipython",
        "version": 3
      },
      "file_extension": ".py",
      "mimetype": "text/x-python",
      "name": "python",
      "nbconvert_exporter": "python",
      "pygments_lexer": "ipython3",
      "version": "3.8.5"
    },
    "colab": {
      "provenance": []
    }
  },
  "nbformat": 4,
  "nbformat_minor": 0
}