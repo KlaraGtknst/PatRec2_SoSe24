{
  "cells": [
    {
      "cell_type": "markdown",
      "metadata": {
        "id": "6KOGH_gyfEZE"
      },
      "source": [
        "# Setup"
      ]
    },
    {
      "cell_type": "code",
      "execution_count": 1,
      "metadata": {
        "id": "nGZwH8P_fEZF",
        "outputId": "5fcb3a86-b933-4194-8d53-aeb23a18ce68"
      },
      "outputs": [
        {
          "data": {
            "image/png": "[encoded data removed]",
            "text/plain": [
              "<Figure size 640x480 with 1 Axes>"
            ]
          },
          "metadata": {},
          "output_type": "display_data"
        }
      ],
      "source": [
        "import numpy as np\n",
        "import matplotlib as mpl\n",
        "import pylab as plt\n",
        "from scipy.stats import multivariate_normal\n",
        "\n",
        "def get_data():\n",
        "    np.random.seed(42)\n",
        "    # training data\n",
        "    x1 = np.random.normal(size=(100, 2))\n",
        "    x1 += np.array([-5, -5])\n",
        "    x2 = np.random.normal(size=(50, 2))\n",
        "    x2 += np.array([5, -5])\n",
        "    x3 = np.random.normal(size=(75, 2))\n",
        "    x3 += np.array([0, 5])\n",
        "    X = np.vstack((x1, x2, x3))\n",
        "    return X\n",
        "\n",
        "X = get_data()\n",
        "plt.scatter(X[:, 0], X[:, 1])\n",
        "plt.show()"
      ]
    },
    {
      "cell_type": "markdown",
      "metadata": {
        "id": "Y4By8Zi3fEZG"
      },
      "source": [
        "# **Gaussian Mixture Models**\n",
        "In this notebook, we will look at density modeling with *Gaussian mixture models* (GMMs), which describe the density of a data sample $\\boldsymbol{x} \\in \\mathbb{R}^D$ as\n",
        "$$\n",
        "p(\\boldsymbol x) = \\sum_{k=1}^K \\pi_k \\mathcal{N}(\\boldsymbol x|\\boldsymbol \\mu_k, \\boldsymbol \\Sigma_k)\\,,\\, \\text{ with } \\boldsymbol{\\mu}_k \\in \\mathbb{R}^D\\,,\\, \\boldsymbol{\\Sigma}_k \\in \\mathbb{R}^{D \\times D}\\,,\\, \\pi_k \\geq 0\\,,\\, \\sum_{k=1}^K\\pi_k = 1.\n",
        "$$\n",
        "\n",
        "The goal of this notebook is to get a better understanding of GMMs and to write some code for training GMMs using the *expectation-maximization-algorithm* (EM-algorithm) . We provide a code skeleton and mark the bits and pieces that you need to implement yourself."
      ]
    },
    {
      "cell_type": "markdown",
      "metadata": {
        "id": "lbyRlh3zfEZG"
      },
      "source": [
        "\n",
        "We define the responsibilities (which are updated in the E-step), given the model parameters $\\pi_k, \\boldsymbol\\mu_k, \\boldsymbol\\Sigma_k$ as\n",
        "$$\n",
        "r_{nk} = \\frac{\\pi_k\\mathcal N(\\boldsymbol\n",
        "          x_n|\\boldsymbol\\mu_k,\\boldsymbol\\Sigma_k)}{\\sum_{j=1}^K\\pi_j\\mathcal N(\\boldsymbol\n",
        "          x_n|\\boldsymbol \\mu_j,\\boldsymbol\\Sigma_j)}.\n",
        "$$          \n",
        "Given the responsibilities we just defined, we can update the model parameters in the M-step as follows:\n",
        "\\begin{align*}\n",
        "\\boldsymbol\\mu_k^\\text{new} &= \\frac{1}{N_k}\\sum_{n = 1}^Nr_{nk}\\boldsymbol x_n\\,,\\\\\n",
        "   \\boldsymbol\\Sigma_k^\\text{new}&= \\frac{1}{N_k}\\sum_{n=1}^Nr_{nk}(\\boldsymbol x_n-\\boldsymbol\\mu_k)(\\boldsymbol x_n-\\boldsymbol\\mu_k)^\\top\\,,\\\\\n",
        "   \\pi_k^\\text{new} &= \\frac{N_k}{N},\n",
        "\\end{align*}\n",
        "where\n",
        "\\begin{align*}\n",
        "N_k = \\sum_{n=1}^N r_{nk}.\n",
        "\\end{align*}\n",
        "\n",
        "\n",
        "> **Implement a GMM with the EM-algorithm**"
      ]
    },
    {
      "cell_type": "code",
      "execution_count": 2,
      "metadata": {
        "id": "mJ0bwzl1fEZG"
      },
      "outputs": [],
      "source": [
        "class GMM:\n",
        "    \"\"\"A GMM which is fitted through the EM-algorithm.\n",
        "\n",
        "    Args:\n",
        "        K (int): Number of components to be specified.\n",
        "        n_iterations (int): Number of iterations of performing the EM algorithm.\n",
        "        random_state (int): Random state to ensure reproducibility.\n",
        "\n",
        "    \"\"\"\n",
        "    def __init__(self, K=3, n_iterations=10, random_state=5):\n",
        "        self.K = K\n",
        "        self.n_iterations = n_iterations\n",
        "        self.random_state = random_state\n",
        "\n",
        "    def density(self, X):\n",
        "        \"\"\"Computes component-wise densities of given samples.\n",
        "\n",
        "        Args:\n",
        "            X (array-like):  Samples whose densities are to be computed with shape (N, D).\n",
        "\n",
        "        Returns:\n",
        "            ndarray:  Computed densities per sample and component with shape (N, K).\n",
        "        \"\"\"\n",
        "####################\n",
        "# Your Code Here   #\n",
        "####################\n",
        "\n",
        "    def negative_log_likelihood(self, X):\n",
        "        \"\"\"Computes negative loglikelihood (NLL) for given samples.\n",
        "\n",
        "        Args:\n",
        "            X (array-like): Samples for which NLL is to be computed with shape (N, D).\n",
        "\n",
        "        Returns:\n",
        "            float: Computed negative log-likelihood.\n",
        "        \"\"\"\n",
        "####################\n",
        "# Your Code Here   #\n",
        "####################\n",
        "\n",
        "    def fit(self, X, y=None):\n",
        "        \"\"\"Fits the GMM by performing the EM-algorithm.\n",
        "\n",
        "        Args:\n",
        "            X (array-like): Training samples with shape (N, D).\n",
        "\n",
        "        Returns:\n",
        "            self: The fitted GMM.\n",
        "        \"\"\"\n",
        "####################\n",
        "# Your Code Here   #\n",
        "####################\n",
        "\n",
        "    def predict(self, X):\n",
        "        \"\"\"Predicts components with highest responsibility per sample.\n",
        "\n",
        "        Args:\n",
        "            X (array-like): Samples whose most likely components are to be predicted with shape (N, D).\n",
        "\n",
        "\n",
        "        Returns:\n",
        "            ndarray:  Most likely components from which the samples were generated with shape (N).\n",
        "        \"\"\"\n",
        "####################\n",
        "# Your Code Here   #\n",
        "####################\n",
        "\n",
        "    def predict_proba(self, X):\n",
        "        \"\"\"Predicts responsibilities of given samples.\n",
        "\n",
        "        Args:\n",
        "            X (array-like): Samples (N, D) whose responsibilities are to be computed.\n",
        "\n",
        "        Returns:\n",
        "            array-like: Computed responsibilities with shape (N, K).\n",
        "\n",
        "        \"\"\"\n",
        "####################\n",
        "# Your Code Here   #\n",
        "####################\n",
        "\n",
        "    def _set_inital_parameters(self):\n",
        "        \"\"\" Initializes the parameters of the GMM randomly. \"\"\"\n",
        "        # Defines random state for reproducibility.\n",
        "        random_state = np.random.RandomState(self.random_state)\n",
        "####################\n",
        "# Your Code Here   #\n",
        "####################\n",
        "\n",
        "    def _expectation(self, X):\n",
        "        \"\"\"Implements E-step by computing responsibilities.\n",
        "\n",
        "        Args:\n",
        "            X (array-like): Samples whose responsibilities are to be computed with shape (N, D).\n",
        "\n",
        "\n",
        "        Returns:\n",
        "            array-like: Computed responsibilities with shape (N, K).\n",
        "\n",
        "        \"\"\"\n",
        "####################\n",
        "# Your Code Here   #\n",
        "####################\n",
        "\n",
        "    def _maximization(self, X, R):\n",
        "        \"\"\"Implements M-step by updating GMM parameters.\n",
        "\n",
        "        Args:\n",
        "            X (array-like): Samples whose responsibilities are to be computed with shape (N, D).\n",
        "            R (array-like): Responsibilities of samples with (N, K).\n",
        "\n",
        "        \"\"\"\n",
        "####################\n",
        "# Your Code Here   #\n",
        "####################"
      ]
    },
    {
      "cell_type": "markdown",
      "metadata": {
        "id": "QRbTDNhefEZG"
      },
      "source": [
        "> **Plot the data and the density of the fitted GMM.** You can plot the density by using contour and the provided meshgrid."
      ]
    },
    {
      "cell_type": "code",
      "execution_count": 3,
      "metadata": {
        "id": "sPWGFZmNfEZH"
      },
      "outputs": [],
      "source": [
        "X_mesh, Y_mesh = np.meshgrid(np.linspace(-10, 10, 100), np.linspace(-10, 10, 100))\n",
        "pos = np.column_stack([X_mesh.ravel(), Y_mesh.ravel()])\n",
        "\n",
        "####################\n",
        "# Your Code Here   #\n",
        "####################"
      ]
    },
    {
      "cell_type": "code",
      "execution_count": 4,
      "metadata": {
        "id": "L69AoCh-fEZH"
      },
      "outputs": [],
      "source": [
        "####################\n",
        "# Your Code Here   #\n",
        "####################"
      ]
    },
    {
      "cell_type": "markdown",
      "metadata": {
        "id": "FBUVhoPZfEZH"
      },
      "source": [
        "#### **Questions:**\n",
        "\n",
        "1. Can the NLL increase while performing the EM-Algorithm?\n",
        "####################\n",
        " Your Text Here   \n",
        "####################   \n",
        "   \n",
        "2. Is the EM-algorithm for the GMM guaranteed to converge?\n",
        "\n",
        "####################\n",
        " Your Text Here   \n",
        "####################   \n",
        "   \n",
        "3. How can we use the NLL as criterion for stopping the training of the GMM?\n",
        "\n",
        "####################\n",
        " Your Text Here   \n",
        "####################    "
      ]
    }
  ],
  "metadata": {
    "colab": {
      "provenance": []
    },
    "kernelspec": {
      "display_name": "Python 3",
      "language": "python",
      "name": "python3"
    },
    "language_info": {
      "codemirror_mode": {
        "name": "ipython",
        "version": 3
      },
      "file_extension": ".py",
      "mimetype": "text/x-python",
      "name": "python",
      "nbconvert_exporter": "python",
      "pygments_lexer": "ipython3",
      "version": "3.11.9"
    }
  },
  "nbformat": 4,
  "nbformat_minor": 0
}
