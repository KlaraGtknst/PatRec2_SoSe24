{
  "nbformat": 4,
  "nbformat_minor": 0,
  "metadata": {
    "coursera": {
      "course_slug": "mathematics-machine-learning-pca",
      "graded_item_id": "CXC11",
      "launcher_item_id": "ub5A7"
    },
    "kernelspec": {
      "display_name": "Python 3",
      "language": "python",
      "name": "python3"
    },
    "language_info": {
      "codemirror_mode": {
        "name": "ipython",
        "version": 3
      },
      "file_extension": ".py",
      "mimetype": "text/x-python",
      "name": "python",
      "nbconvert_exporter": "python",
      "pygments_lexer": "ipython3",
      "version": "3.8.5"
    },
    "colab": {
      "provenance": []
    }
  },
  "cells": [
    {
      "cell_type": "code",
      "metadata": {
        "id": "b7D41Rcmt62T"
      },
      "source": [
        "import numpy as np\n",
        "import timeit\n",
        "import matplotlib as mpl\n",
        "import matplotlib.pyplot as plt\n",
        "from ipywidgets import interact, Button, fixed\n",
        "from sklearn.datasets import fetch_openml"
      ],
      "execution_count": null,
      "outputs": []
    },
    {
      "cell_type": "markdown",
      "metadata": {
        "id": "CiqXZoTvt62c"
      },
      "source": [
        "# **Principal Component Analysis**\n",
        "We will implement the *principal component analysis* (PCA) algorithm in two versions. First, we will implement the standard version for non high-dimensional data. Subsequently, we will implement the version suited for high dimensional data and compare both versions regarding their computational complexity."
      ]
    },
    {
      "cell_type": "markdown",
      "metadata": {
        "id": "-L1DpS6_t62e"
      },
      "source": [
        "### **Data Sets** <a class=\"anchor\" id=\"data-sets\"></a>\n",
        "\n",
        "In this notebook, we will consider two kinds of data sets:\n",
        "- a two-dimensional toy data set to illustrate eigenvectors\n",
        "- and the image data set [MNIST](https://www.openml.org/d/554) containing images of hand-written digits.\n",
        "\n",
        "Mathematically, we denote an obtained data set consisting of $N$ samples as a matrix $\\mathbf{X} \\in \\mathbb{R}^{N \\times D}$, where the $n$-th row of this matrix represents the $n$-th samples being a $D$-dimensional feature vector: $\\mathbf{x}_n = (x_{n1}, \\dots, x_{nD})^\\mathrm{T}$.\n",
        "\n",
        "Below, we generate the toy data set, download the image data set, and visualize both."
      ]
    },
    {
      "cell_type": "code",
      "metadata": {
        "colab": {
          "base_uri": "https://localhost:8080/",
          "height": 294
        },
        "id": "OPYMuvW-t62g",
        "outputId": "35584575-d7ab-4d79-fffd-8246bea3182c"
      },
      "source": [
        "# Generate toy data set.\n",
        "X_toy = np.random.RandomState(42).multivariate_normal(mean=[5, 8], cov=[[2, 1.9], [1.9, 2]], size=500)\n",
        "\n",
        "# Download MNIST data set.\n",
        "X_img, y_img = fetch_openml('mnist_784', version=1, return_X_y=True)\n",
        "\n",
        "# Plot data sets.\n",
        "fig = plt.figure(figsize=(12, 4))\n",
        "fig.suptitle('Visualization of Data Sets')\n",
        "plt.subplot(121)\n",
        "plt.title('Samples of Toy Data Set', fontsize=10)\n",
        "plt.scatter(X_toy[:, 0], X_toy[:, 1])\n",
        "plt.subplot(122)\n",
        "plt.title('Image Sample of MNIST Data Set', fontsize=10)\n",
        "plt.imshow(X_img[0].reshape(28, 28), cmap='gray')\n",
        "plt.show()"
      ],
      "execution_count": null,
      "outputs": [
        {
          "output_type": "display_data",
          "data": {
            "image/png": "[encoded data removed]",
            "text/plain": [
              "<Figure size 864x288 with 2 Axes>"
            ]
          },
          "metadata": {
            "tags": [],
            "needs_background": "light"
          }
        }
      ]
    },
    {
      "cell_type": "markdown",
      "metadata": {
        "id": "ZCt-m5aUt62h"
      },
      "source": [
        "### **Standardization** <a class=\"anchor\" id=\"standardization\"></a>\n",
        "\n",
        "Before we implement PCA, we will need to standardize the data sets. The feature value $x_{*d}$ of a sample $\\mathbf{x}_*$ can be standardized according to\n",
        "t the samples will have zero mean and one varia\\begin{equation}\n",
        "    x_{*d} \\leftarrow \\frac{x_{*d} - \\mu_d}{\\sigma_d},\n",
        "\\end{equation}\n",
        "where $\\mu_d \\in \\mathbb{R}$ denotes the mean and $\\sigma_d \\in \\mathbb{R}_{>0}$ the standard deviation of the $d$-th feature. Both are usually computed on a training data set $\\mathbf{X}$.\n",
        "The standardization ensures that the samples will have zero mean and one variance. It also known as\n",
        "[data normalization or feature scaling](https://en.wikipedia.org/wiki/Feature_scaling).\n",
        "\n",
        "> A corresponding class for standardization is to be implemented below."
      ]
    },
    {
      "cell_type": "code",
      "metadata": {
        "id": "N3rZlK82t62i"
      },
      "source": [
        "class StandardScaler:\n",
        "    \"\"\"Standardize features by removing the mean and scaling to unit variance.\"\"\"\n",
        "\n",
        "    def fit(self, X):\n",
        "        \"\"\"Determine required parameters to standardize data.\n",
        "\n",
        "        Args:\n",
        "            X (array-like): Input samples\n",
        "\n",
        "        Returns:\n",
        "            The fitted StandardScaler object.\n",
        "        \"\"\"\n",
        "####################\n",
        "# Your Code Here   #\n",
        "####################\n",
        "\n",
        "    def transform(self, X):\n",
        "        \"\"\"Standardizes input samples `X`.\n",
        "\n",
        "        Args:\n",
        "            X (array-like): Input samples.\n",
        "\n",
        "        Returns:\n",
        "            Standardized samples.\n",
        "        \"\"\"\n",
        "####################\n",
        "# Your Code Here   #\n",
        "####################\n",
        "\n",
        "    def inverse_transform(self, Z):\n",
        "        \"\"\"Scales back the data to the original data representation.\n",
        "\n",
        "        Args:\n",
        "            Z (array-like): Standardized samples.\n",
        "\n",
        "        Returns:\n",
        "            Re-scaled samples.\n",
        "        \"\"\"\n",
        "####################\n",
        "# Your Code Here   #\n",
        "####################"
      ],
      "execution_count": null,
      "outputs": []
    },
    {
      "cell_type": "markdown",
      "metadata": {
        "id": "8s63JIaqt62k"
      },
      "source": [
        "> Standardize both data sets and visualize the results."
      ]
    },
    {
      "cell_type": "code",
      "metadata": {
        "id": "_uwmd5-Pt62l"
      },
      "source": [
        "####################\n",
        "# Your Code Here   #\n",
        "####################"
      ],
      "execution_count": null,
      "outputs": []
    },
    {
      "cell_type": "markdown",
      "metadata": {
        "id": "HxHxsY2Gt62m"
      },
      "source": [
        "#### **Question:**\n",
        "Why should we standardize data before applying PCA?\n",
        "\n",
        "####################\n",
        " Your Text Here   \n",
        "####################"
      ]
    },
    {
      "cell_type": "markdown",
      "metadata": {
        "id": "gS-jMCqqt62p"
      },
      "source": [
        "### **PCA on Toy Data Set** <a class=\"anchor\" id=\"pca-on-toy-data-set\"></a>\n",
        "\n",
        "Now we will implement PCA given a training set $\\mathbf{X}$ with mean $\\boldsymbol{\\mu} \\in \\mathbb{R}^D$ (being $\\mathbf{0}$ if $\\mathbf{X}$ has been standardized) to transform samples from the $D$-dimensional space into an $M \\leq D$ dimensional space.\n",
        "We then need to perform the following steps.\n",
        "\n",
        "> A corresponding class for the PCA is to be implemented below.\n",
        "\n",
        "   \n",
        "A common way to determine the number of principal components $M$ is to define a threshold $c \\in (0, 1]$ for the **explained variance** such that\n",
        "\\begin{equation}\n",
        "M_c = \\text{arg min}_{M \\in \\{1, \\dots, D\\}} M \\quad \\text{ s.t. } \\quad \\frac{\\sum_{j=1}^{M} \\lambda_{i_j}}{\\sum_{i=l}^{D} \\lambda_{l}} \\geq c.\n",
        "\\end{equation}\n",
        "\n",
        "> Determine the number of components based on explained variance if `n_components` is in the intervall $(0, 1]$."
      ]
    },
    {
      "cell_type": "code",
      "metadata": {
        "id": "x4WZjXnJt62p"
      },
      "source": [
        "class PCA:\n",
        "    \"\"\"This class implements the principal component analysis for N >= D,\n",
        "        where N is the number of samples and D is the number of features.\n",
        "\n",
        "    Args:\n",
        "        n_comonents (int, float): If `n_components` is an integer, the number of dimension will be reduced\n",
        "            from D to `n_components`. If `0 < n_components < 1`,  select the number\n",
        "            of components such that the amount of variance that needs to be explained\n",
        "            is greater or equal than the percentage specified by `n_components`.\n",
        "\n",
        "    \"\"\"\n",
        "    def __init__(self, n_components):\n",
        "        self.n_components = n_components\n",
        "\n",
        "    def fit(self, X):\n",
        "        \"\"\"Determine required parameters of the PCA.\n",
        "\n",
        "        Args:\n",
        "            X (array-like): Input samples.\n",
        "\n",
        "        Returns:\n",
        "            The fitted PCA object.\n",
        "        \"\"\"\n",
        "####################\n",
        "# Your Code Here   #\n",
        "####################\n",
        "\n",
        "    def transform(self, X):\n",
        "        \"\"\" Transforms samples from the D-dimensional input space into\n",
        "            the M-dimensional projection space.\n",
        "\n",
        "        Args:\n",
        "            X (ndarray): Samples in the input space.\n",
        "\n",
        "        Returns\n",
        "            Transformed samples in the projection space.\n",
        "        \"\"\"\n",
        "####################\n",
        "# Your Code Here   #\n",
        "####################\n",
        "\n",
        "    def inverse_transform(self, Z):\n",
        "        \"\"\" Retransforms samples from the M-dimensional projection space into\n",
        "            the D-dimensional input space.\n",
        "\n",
        "        Args:\n",
        "            Z (array-like): Samples in the projection space.\n",
        "\n",
        "        Returns:\n",
        "            Re-transformed samples in the input space.\n",
        "        \"\"\"\n",
        "####################\n",
        "# Your Code Here   #\n",
        "####################\n",
        "\n",
        "    def _determine_M(self):\n",
        "        \"\"\"Determine number of finally selected components.\"\"\"\n",
        "####################\n",
        "# Your Code Here   #\n",
        "####################"
      ],
      "execution_count": null,
      "outputs": []
    },
    {
      "cell_type": "markdown",
      "metadata": {
        "id": "oE5gcj-Tt62r"
      },
      "source": [
        "> Having implemented the PCA, we apply it to the two-dimensional toy data set to visualize eigenvectors and eigenvalues."
      ]
    },
    {
      "cell_type": "code",
      "metadata": {
        "id": "W5-pdJB_t62s"
      },
      "source": [
        "####################\n",
        "# Your Code Here   #\n",
        "####################"
      ],
      "execution_count": null,
      "outputs": []
    },
    {
      "cell_type": "markdown",
      "metadata": {
        "id": "SzupJID4t62t"
      },
      "source": [
        "### **PCA on Image Data Set** <a class=\"anchor\" id=\"pca-on-image-data-set\"></a>\n",
        "\n",
        "In this section, we will analyze the performance of the PCA on the image data set MNIST. Therefor, we analyze how the number of selected principal components $M$ affects our reconstruction error be.\n",
        "> Implement a function for computing the reconstruction error (i.e., mean squared error):\n",
        "\\begin{equation}\n",
        "J = \\frac{1}{N} \\sum_{n=1}^{N} ||\\mathbf{x}_n - \\tilde{\\mathbf{x}}_{n}||^2.\n",
        "\\end{equation}"
      ]
    },
    {
      "cell_type": "code",
      "metadata": {
        "id": "nQJQZ7KIt62v"
      },
      "source": [
        "def compute_reconstruction_error(X_orig, X_rec):\n",
        "    \"\"\"Computes the reconstruction error, i.e., mean squared error.\n",
        "\n",
        "    Args:\n",
        "        X_orig (array-like): Original samples.\n",
        "        X_rec (array-like): Reconstructed samples.\n",
        "\n",
        "    Returns:\n",
        "        Reconstruction error.\n",
        "    \"\"\"\n",
        "####################\n",
        "# Your Code Here   #\n",
        "####################"
      ],
      "execution_count": null,
      "outputs": []
    },
    {
      "cell_type": "markdown",
      "metadata": {
        "id": "aS-zSjj-t62w"
      },
      "source": [
        "> Compute the error in dependence of the number of selected components $M$."
      ]
    },
    {
      "cell_type": "code",
      "metadata": {
        "id": "1Q15yyPTt62x"
      },
      "source": [
        "####################\n",
        "# Your Code Here   #\n",
        "####################"
      ],
      "execution_count": null,
      "outputs": []
    },
    {
      "cell_type": "markdown",
      "metadata": {
        "id": "dDt0JzpNt62x"
      },
      "source": [
        "> Finally, show the qualitative performance of the PCA through visual inspections of examples for different values of the explained variance."
      ]
    },
    {
      "cell_type": "code",
      "metadata": {
        "id": "fuqHg7dpt62y"
      },
      "source": [
        "####################\n",
        "# Your Code Here   #\n",
        "####################"
      ],
      "execution_count": null,
      "outputs": []
    }
  ]
}